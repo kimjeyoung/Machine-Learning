{
 "cells": [
  {
   "cell_type": "code",
   "execution_count": 30,
   "metadata": {
    "scrolled": true
   },
   "outputs": [
    {
     "name": "stdout",
     "output_type": "stream",
     "text": [
      "                                                text\n",
      "0  A mold extractor assembly for use with a concr...\n",
      "1  A mold assembly for forming concrete products ...\n",
      "2  A mold transfer assembly comprises a carriage ...\n",
      "3  In an overlock sewing machine, a main shaft fi...\n",
      "4  A overlock sewing machine includes a switch li...\n"
     ]
    },
    {
     "data": {
      "image/png": "[encoded data removed]",
      "text/plain": [
       "<matplotlib.figure.Figure at 0x7fc6ad95dcf8>"
      ]
     },
     "metadata": {},
     "output_type": "display_data"
    },
    {
     "data": {
      "image/png": "[encoded data removed]",
      "text/plain": [
       "<matplotlib.figure.Figure at 0x7fc6ad93e940>"
      ]
     },
     "metadata": {},
     "output_type": "display_data"
    },
    {
     "data": {
      "text/html": [
       "<div>\n",
       "<style>\n",
       "    .dataframe thead tr:only-child th {\n",
       "        text-align: right;\n",
       "    }\n",
       "\n",
       "    .dataframe thead th {\n",
       "        text-align: left;\n",
       "    }\n",
       "\n",
       "    .dataframe tbody tr th {\n",
       "        vertical-align: top;\n",
       "    }\n",
       "</style>\n",
       "<table border=\"1\" class=\"dataframe\">\n",
       "  <thead>\n",
       "    <tr style=\"text-align: right;\">\n",
       "      <th></th>\n",
       "      <th>cluster</th>\n",
       "      <th>x</th>\n",
       "      <th>y</th>\n",
       "    </tr>\n",
       "  </thead>\n",
       "  <tbody>\n",
       "    <tr>\n",
       "      <th>0</th>\n",
       "      <td>1</td>\n",
       "      <td>2.207625</td>\n",
       "      <td>-94.622655</td>\n",
       "    </tr>\n",
       "    <tr>\n",
       "      <th>1</th>\n",
       "      <td>0</td>\n",
       "      <td>87.707430</td>\n",
       "      <td>111.460065</td>\n",
       "    </tr>\n",
       "    <tr>\n",
       "      <th>2</th>\n",
       "      <td>1</td>\n",
       "      <td>-15.121107</td>\n",
       "      <td>-155.512346</td>\n",
       "    </tr>\n",
       "    <tr>\n",
       "      <th>3</th>\n",
       "      <td>0</td>\n",
       "      <td>142.470978</td>\n",
       "      <td>42.872327</td>\n",
       "    </tr>\n",
       "    <tr>\n",
       "      <th>4</th>\n",
       "      <td>0</td>\n",
       "      <td>-48.844014</td>\n",
       "      <td>46.800101</td>\n",
       "    </tr>\n",
       "    <tr>\n",
       "      <th>5</th>\n",
       "      <td>0</td>\n",
       "      <td>-102.981881</td>\n",
       "      <td>162.119466</td>\n",
       "    </tr>\n",
       "    <tr>\n",
       "      <th>6</th>\n",
       "      <td>0</td>\n",
       "      <td>151.746156</td>\n",
       "      <td>126.230701</td>\n",
       "    </tr>\n",
       "    <tr>\n",
       "      <th>7</th>\n",
       "      <td>0</td>\n",
       "      <td>-97.491362</td>\n",
       "      <td>16.793175</td>\n",
       "    </tr>\n",
       "    <tr>\n",
       "      <th>8</th>\n",
       "      <td>1</td>\n",
       "      <td>-112.566567</td>\n",
       "      <td>-111.235725</td>\n",
       "    </tr>\n",
       "    <tr>\n",
       "      <th>9</th>\n",
       "      <td>1</td>\n",
       "      <td>56.059554</td>\n",
       "      <td>-65.617522</td>\n",
       "    </tr>\n",
       "  </tbody>\n",
       "</table>\n",
       "</div>"
      ],
      "text/plain": [
       "   cluster           x           y\n",
       "0        1    2.207625  -94.622655\n",
       "1        0   87.707430  111.460065\n",
       "2        1  -15.121107 -155.512346\n",
       "3        0  142.470978   42.872327\n",
       "4        0  -48.844014   46.800101\n",
       "5        0 -102.981881  162.119466\n",
       "6        0  151.746156  126.230701\n",
       "7        0  -97.491362   16.793175\n",
       "8        1 -112.566567 -111.235725\n",
       "9        1   56.059554  -65.617522"
      ]
     },
     "execution_count": 30,
     "metadata": {},
     "output_type": "execute_result"
    }
   ],
   "source": [
    "# 샘플데이터 생성\n",
    "import numpy as np\n",
    "\n",
    "#tf-idf\n",
    "from sklearn.feature_extraction.text import TfidfVectorizer\n",
    "#t-sne\n",
    "from sklearn.manifold import TSNE\n",
    "\n",
    "import pandas as pd\n",
    "import xlrd\n",
    "\n",
    "load = pd.read_excel('sibal.xlsx')\n",
    "print(load.head())\n",
    "\n",
    "\n",
    "#for i in range(50):\n",
    "#    news['data'][i] = news['data'][i][:10000]\n",
    " \n",
    "x_data = load.text\n",
    "\n",
    " \n",
    "vectorizer = TfidfVectorizer()\n",
    "tfidf_matrix = vectorizer.fit_transform(x_data)\n",
    "\n",
    "X = tfidf_matrix.toarray()\n",
    "\n",
    "#T-SNE 차원축소 \n",
    "model = TSNE(n_components=2, random_state=0)\n",
    "np.set_printoptions(suppress=True)\n",
    "vectors_set=model.fit_transform(X) \n",
    "\n",
    "#print(vectors_set)\n",
    "import matplotlib.pyplot as plt\n",
    "import pandas as pd\n",
    "import seaborn as sns\n",
    "\n",
    "df = pd.DataFrame({\"x\": [v[0] for v in vectors_set],\n",
    "                   \"y\": [v[1] for v in vectors_set]})\n",
    "sns.lmplot(\"x\", \"y\", data=df, fit_reg=False, size=6)\n",
    "\n",
    "plt.show()\n",
    "\n",
    "# K-means 구현\n",
    "# 4개의 군집으로 그룹화\n",
    "\n",
    "import tensorflow as tf\n",
    "\n",
    "# 모든 데이터를 상수 텐서로 옮김\n",
    "vectors = tf.constant(vectors_set)\n",
    "# 초기 단계 : 중심 k(4)개를 입력데이터에서 무작위로 선택 \n",
    "# 무작위 선택이라는 것이 어떤 의미일까\n",
    "k = 2\n",
    "centroides = tf.Variable(tf.slice(tf.random_shuffle(vectors),[0,0],[k,-1]))\n",
    "# vector.get_shape(), centroides.get_shape()\n",
    "# 위 주석으로 각 텐서의 구조를 확인해볼 수 있음\n",
    " \n",
    "expanded_vectors = tf.expand_dims(vectors, 0)\n",
    "expanded_centroides = tf.expand_dims(centroides, 1)\n",
    "\n",
    "# 할당 단계 : 유클리드 제곱거리 사용\n",
    "diff = tf.subtract(expanded_vectors, expanded_centroides)\n",
    "sqr = tf.square(diff)\n",
    "distances = tf.reduce_sum(sqr, 2)\n",
    "assignments = tf.argmin(distances,0)\n",
    "\n",
    "# 업데이트 : 새로운 중심 계산\n",
    "means = tf.concat(\n",
    "                  [tf.reduce_mean(\n",
    "                      tf.gather(vectors,\n",
    "                                tf.reshape(\n",
    "                                    tf.where(tf.equal(assignments, c))\n",
    "                                    ,[1, -1])\n",
    "                                )\n",
    "                      , reduction_indices=[1]) for c in range(k)],0)\n",
    "\n",
    "update_centroides = tf.assign(centroides, means)\n",
    "\n",
    "init_op = tf.global_variables_initializer()\n",
    "\n",
    "sess = tf.Session()\n",
    "sess.run(init_op)\n",
    "\n",
    "for step in range(500):\n",
    "    _, centroid_values, assignment_values = sess.run([update_centroides, centroides, assignments])\n",
    "\n",
    "\n",
    "# assignment_values 텐서의 결과를 확인\n",
    "\n",
    "data = {\"x\": [], \"y\": [], \"cluster\": []}\n",
    "\n",
    "for i in range(len(assignment_values)):\n",
    "    data[\"x\"].append(vectors_set[i][0])\n",
    "    data[\"y\"].append(vectors_set[i][1])\n",
    "    data[\"cluster\"].append(assignment_values[i])\n",
    "\n",
    "df = pd.DataFrame(data)\n",
    "\n",
    "#hue 없애면 k-mean 없어짐\n",
    "sns.lmplot(\"x\", \"y\", data=df, fit_reg=False, size=6, hue=\"cluster\", legend=False,logistic=True)\n",
    "           \n",
    "plt.show()\n",
    "df.head(10)"
   ]
  },
  {
   "cell_type": "code",
   "execution_count": 38,
   "metadata": {},
   "outputs": [
    {
     "name": "stderr",
     "output_type": "stream",
     "text": [
      "/usr/local/lib/python3.5/dist-packages/sklearn/utils/validation.py:429: DataConversionWarning: Data with input dtype int64 was converted to float64 by MinMaxScaler.\n",
      "  warnings.warn(msg, _DataConversionWarning)\n",
      "/usr/local/lib/python3.5/dist-packages/sklearn/preprocessing/data.py:321: DeprecationWarning: Passing 1d arrays as data is deprecated in 0.17 and will raise ValueError in 0.19. Reshape your data either using X.reshape(-1, 1) if your data has a single feature or X.reshape(1, -1) if it contains a single sample.\n",
      "  warnings.warn(DEPRECATION_MSG_1D, DeprecationWarning)\n",
      "/usr/local/lib/python3.5/dist-packages/sklearn/preprocessing/data.py:356: DeprecationWarning: Passing 1d arrays as data is deprecated in 0.17 and will raise ValueError in 0.19. Reshape your data either using X.reshape(-1, 1) if your data has a single feature or X.reshape(1, -1) if it contains a single sample.\n",
      "  warnings.warn(DEPRECATION_MSG_1D, DeprecationWarning)\n"
     ]
    },
    {
     "data": {
      "text/plain": [
       "1.0"
      ]
     },
     "execution_count": 38,
     "metadata": {},
     "output_type": "execute_result"
    }
   ],
   "source": [
    "from sklearn import linear_model, datasets\n",
    "from sklearn.preprocessing import StandardScaler, MinMaxScaler ,normalize\n",
    "from sklearn import preprocessing\n",
    "\n",
    "# import some data to play with\n",
    "Y = df.cluster\n",
    "X = df.drop(['cluster'],axis=1)\n",
    "\n",
    "Y = df['cluster']\n",
    "min_max_scaler_y = preprocessing.MinMaxScaler()\n",
    "Y = min_max_scaler_y.fit_transform(Y)\n",
    "\n",
    "\n",
    "X = df.drop(['cluster'],axis=1)\n",
    "min_max_scaler = preprocessing.MinMaxScaler()\n",
    "X = min_max_scaler.fit_transform(X)\n",
    "\n",
    "\n",
    "logreg = linear_model.LogisticRegression(C=1e5)\n",
    "\n",
    "logreg.fit(X, Y)\n",
    "\n",
    "logreg.score(X,Y)"
   ]
  },
  {
   "cell_type": "code",
   "execution_count": 45,
   "metadata": {},
   "outputs": [
    {
     "name": "stderr",
     "output_type": "stream",
     "text": [
      "/usr/local/lib/python3.5/dist-packages/sklearn/utils/validation.py:395: DeprecationWarning: Passing 1d arrays as data is deprecated in 0.17 and will raise ValueError in 0.19. Reshape your data either using X.reshape(-1, 1) if your data has a single feature or X.reshape(1, -1) if it contains a single sample.\n",
      "  DeprecationWarning)\n"
     ]
    },
    {
     "data": {
      "text/plain": [
       "array([ 0.])"
      ]
     },
     "execution_count": 45,
     "metadata": {},
     "output_type": "execute_result"
    }
   ],
   "source": [
    "x_test = [-118.3884215 , 19.83382193]\n",
    "  \n",
    "logreg.predict(x_test)"
   ]
  }
 ],
 "metadata": {
  "kernelspec": {
   "display_name": "Python 3",
   "language": "python",
   "name": "python3"
  },
  "language_info": {
   "codemirror_mode": {
    "name": "ipython",
    "version": 3
   },
   "file_extension": ".py",
   "mimetype": "text/x-python",
   "name": "python",
   "nbconvert_exporter": "python",
   "pygments_lexer": "ipython3",
   "version": "3.5.2"
  }
 },
 "nbformat": 4,
 "nbformat_minor": 2
}
