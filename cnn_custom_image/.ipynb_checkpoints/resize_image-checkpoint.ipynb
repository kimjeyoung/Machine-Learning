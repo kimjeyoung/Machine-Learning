{
 "cells": [
  {
   "cell_type": "code",
   "execution_count": 2,
   "metadata": {},
   "outputs": [
    {
     "name": "stdout",
     "output_type": "stream",
     "text": [
      "workspace :  /home/kimjihee/kimjeyoung/CNN\n"
     ]
    }
   ],
   "source": [
    "from PIL import Image\n",
    "import matplotlib.pyplot as plt\n",
    "import numpy as np \n",
    "import os\n",
    "\n",
    "print('workspace : ',os.getcwd())"
   ]
  },
  {
   "cell_type": "code",
   "execution_count": 4,
   "metadata": {},
   "outputs": [],
   "source": [
    "workspace = os.getcwd()\n",
    "#path 설정\n",
    "paths = {workspace+'/data/cerebrovasular',\n",
    "         workspace+'/data/degenerative',\n",
    "         workspace+'/data/inflammatory',\n",
    "         workspace+'/data/neoplastic'}\n",
    "\n",
    "num_class = len(paths)\n",
    "valid_exts = ['.gif','.jpg','.png','.jpeg']\n",
    "image_count = 0\n",
    "raw_image = []\n",
    "resize_image = []\n",
    "size=128,128"
   ]
  },
  {
   "cell_type": "code",
   "execution_count": 53,
   "metadata": {},
   "outputs": [
    {
     "name": "stdout",
     "output_type": "stream",
     "text": [
      "//home/kimjihee/kimjeyoung/CNN/data/neoplastic/1.gif\n",
      "(128, 128)\n",
      "//home/kimjihee/kimjeyoung/CNN/data/degenerative/1.gif\n",
      "(128, 128)\n",
      "//home/kimjihee/kimjeyoung/CNN/data/cerebrovasular/1.gif\n",
      "(128, 128)\n",
      "//home/kimjihee/kimjeyoung/CNN/data/inflammatory/1.gif\n",
      "(128, 128)\n",
      "TOTAL 28 IMAGES LOADED.\n"
     ]
    }
   ],
   "source": [
    "for i, relpath in zip(range(nclass),paths):\n",
    "    path = \"/\"+relpath\n",
    "    flist = os.listdir(path)\n",
    "    for f in flist:\n",
    "        if os.path.splitext(f)[1].lower() not in valid_exts:\n",
    "            continue\n",
    "        fullpath = os.path.join(path,f)\n",
    "        print(fullpath)\n",
    "        currimg = Image.open(fullpath)\n",
    "        currimg.thumbnail(size)\n",
    "        currimg.save(fullpath,'gif')\n",
    "        print(np.shape(currimg))\n",
    "        image_count = image_count +1\n",
    "print (\"TOTAL %d IMAGES LOADED.\" %(image_count))     \n"
   ]
  }
 ],
 "metadata": {
  "kernelspec": {
   "display_name": "Python 3",
   "language": "python",
   "name": "python3"
  },
  "language_info": {
   "codemirror_mode": {
    "name": "ipython",
    "version": 3
   },
   "file_extension": ".py",
   "mimetype": "text/x-python",
   "name": "python",
   "nbconvert_exporter": "python",
   "pygments_lexer": "ipython3",
   "version": "3.5.2"
  }
 },
 "nbformat": 4,
 "nbformat_minor": 2
}
