{
 "cells": [
  {
   "cell_type": "markdown",
   "metadata": {},
   "source": [
    "### CapsNet\n",
    "\n",
    "Implement CapsNet : [Dynamic routing between capsules][1]<br></br>\n",
    "Implement CapsNet source code : [here][2]<br></br>\n",
    "\n",
    "CapsNet 을 설명하기 위한 코드입니다.\n",
    "\n",
    "[1]:https://arxiv.org/abs/1710.09829\n",
    "[2]:https://github.com/InnerPeace-Wu/CapsNet-tensorflow"
   ]
  },
  {
   "cell_type": "code",
   "execution_count": 19,
   "metadata": {},
   "outputs": [
    {
     "name": "stdout",
     "output_type": "stream",
     "text": [
      "Extracting ./data/mnist/train-images-idx3-ubyte.gz\n",
      "Extracting ./data/mnist/train-labels-idx1-ubyte.gz\n",
      "Extracting ./data/mnist/t10k-images-idx3-ubyte.gz\n",
      "Extracting ./data/mnist/t10k-labels-idx1-ubyte.gz\n"
     ]
    }
   ],
   "source": [
    "# 데이터 로드\n",
    "import tensorflow as tf\n",
    "import numpy as np\n",
    "import time\n",
    "from tensorflow.contrib import slim\n",
    "from tensorflow.examples.tutorials.mnist import input_data\n",
    "mnist = input_data.read_data_sets(\"./data/mnist/\", one_hot=True)"
   ]
  },
  {
   "cell_type": "markdown",
   "metadata": {},
   "source": [
    "![image](./image/model.png)\n",
    "\n",
    "우리는 여기서 첫번째 layer 를 구현해야 합니다. 초기 layer 는 일반적인 CNN 과 같이 ReLu 를 거친 256 개의 featuremap 을 형성할 수 있도록 만듭니다.<br></br>\n",
    "논문에서는 filter size = 9 , stride = 1 을 주었습니다. padding 은 VALID 를 이용해야 다음 구조와 같은 shape이 나옵니다."
   ]
  },
  {
   "cell_type": "code",
   "execution_count": 3,
   "metadata": {
    "collapsed": true
   },
   "outputs": [],
   "source": [
    "# 파라메터 설정 \n",
    "batch_size = 48\n",
    "x = tf.placeholder(tf.float32,[batch_size,784])\n",
    "x_img = tf.reshape(x, [batch_size, 28,28,1])\n",
    "y = tf.placeholder(tf.float32,[batch_size,10])\n",
    "w_initializer = tf.truncated_normal_initializer(stddev=0.1)\n",
    "b_initializer = tf.zeros_initializer()"
   ]
  },
  {
   "cell_type": "code",
   "execution_count": 4,
   "metadata": {},
   "outputs": [
    {
     "name": "stdout",
     "output_type": "stream",
     "text": [
      "첫번째 레이어의 shape 은  (48, 20, 20, 256) 입니다.\n"
     ]
    }
   ],
   "source": [
    "# 컨볼루션 레이어 만들기\n",
    "with tf.name_scope('first_layer'):\n",
    "    conv_weight = tf.get_variable('cnn_weight',shape=[9,9,1,256])\n",
    "    conv_layer = tf.nn.conv2d(x_img,conv_weight,strides=[1,1,1,1],padding=\"VALID\")\n",
    "    conv_layer = tf.nn.relu(conv_layer)\n",
    "print('첫번째 레이어의 shape 은 ',np.shape(conv_layer),\"입니다.\")"
   ]
  },
  {
   "cell_type": "markdown",
   "metadata": {},
   "source": [
    "\n",
    "#### 다음 레이어로 넘어가기 이전에 Capsule layer 의 활성화 함수인 Squash 를 함수 형태로 정의합니다.\n",
    "![squashing](./image/squashing.png)"
   ]
  },
  {
   "cell_type": "code",
   "execution_count": 5,
   "metadata": {
    "collapsed": true
   },
   "outputs": [],
   "source": [
    "# squashing 함수. s_j 의 크기가 크면 1로 수렴하려 하고, s_j 의 크기가 작다면 0으로 수렴 \n",
    "def squash(cap_input):\n",
    "    with tf.name_scope('squash'):\n",
    "        input_norm_square = tf.reduce_sum(tf.square(cap_input), axis=-1, keep_dims=True)\n",
    "        scale = input_norm_square / (1. + input_norm_square) / tf.sqrt(input_norm_square)\n",
    "\n",
    "    return cap_input * scale"
   ]
  },
  {
   "cell_type": "code",
   "execution_count": 6,
   "metadata": {
    "collapsed": true
   },
   "outputs": [],
   "source": [
    "n_capsule_i = 32\n",
    "previous_channel = 256\n",
    "length_of_ui = 8\n",
    "filter_size = 9\n",
    "strides = 2\n",
    "\n",
    "caps = []\n",
    "for i in range(n_capsule_i):\n",
    "    with tf.variable_scope('capsule_' + str(i)):\n",
    "        primary_weights = tf.get_variable('primary_weights', shape=[filter_size, filter_size, previous_channel, length_of_ui], dtype=tf.float32)\n",
    "        primary_bias = tf.get_variable('primary_bias', shape=[length_of_ui, ], dtype=tf.float32,initializer=b_initializer)\n",
    "        capsule_i = tf.nn.conv2d(conv_layer, primary_weights, [1, strides, strides, 1], padding='VALID', name='capsule_conv')\n",
    "\n",
    "        capsule_i = capsule_i + primary_bias\n",
    "        capsule_i = squash(capsule_i)\n",
    "        capsule_i = tf.expand_dims(capsule_i, axis=1)\n",
    "    \n",
    "    caps.append(capsule_i)\n",
    "    primary_capsule = tf.concat(caps, axis=1)"
   ]
  },
  {
   "cell_type": "code",
   "execution_count": 7,
   "metadata": {},
   "outputs": [
    {
     "name": "stdout",
     "output_type": "stream",
     "text": [
      "PrimaryCaps 의 shape은 (48, 32, 6, 6, 8) 입니다.\n",
      "reshape 된 PrimaryCaps의 shape 은 (48, 1152, 1, 8, 1) 입니다.\n"
     ]
    }
   ],
   "source": [
    "print(\"PrimaryCaps 의 shape은 %s 입니다.\"%(np.shape(primary_capsule)))\n",
    "with tf.name_scope('primary_cap_reshape'):\n",
    "    # reshape and expand dims for broadcasting in dynamic routing\n",
    "    primary_capsule = tf.reshape(primary_capsule, shape=[batch_size, 32*6*6, 1, 8, 1])\n",
    "    \n",
    "# matrix 연산을 위해    \n",
    "print('reshape 된 PrimaryCaps의 shape 은 %s 입니다.'%(np.shape(primary_capsule)))"
   ]
  },
  {
   "cell_type": "markdown",
   "metadata": {},
   "source": [
    "### Routing Algorithm\n",
    "\n",
    "![routing](./image/routing.png)"
   ]
  },
  {
   "cell_type": "code",
   "execution_count": 8,
   "metadata": {},
   "outputs": [
    {
     "name": "stdout",
     "output_type": "stream",
     "text": [
      "DigitCaps 의 shape 은 (48, 10, 16, 1) 입니다.\n"
     ]
    }
   ],
   "source": [
    "# 초기 b_IJ 는 zero.\n",
    "n_capsule_j = 10\n",
    "len_capsule_j = 16\n",
    "\n",
    "n_previous_cap = 32 * 6 * 6\n",
    "len_previous_cap = 8\n",
    "\n",
    "routing_iteration = 3\n",
    "\n",
    "with tf.variable_scope('routing'):\n",
    "    # b_IJ: [1, num_caps_l, num_caps_l_plus_1, 1, 1] 초기값은 0.\n",
    "    b_IJ = tf.constant(np.zeros([1, n_previous_cap, n_capsule_j, 1, 1], dtype=np.float32))\n",
    "    \n",
    "    W = tf.get_variable('DigitCap_weight', shape=(1, n_previous_cap, n_capsule_j, \n",
    "                                                  len_previous_cap, len_capsule_j), dtype=tf.float32, initializer= w_initializer)\n",
    "    W = tf.tile(W, [batch_size, 1, 1, 1, 1])\n",
    "    \n",
    "    primary_capsule = tf.tile(primary_capsule, [1, 1, n_capsule_j, 1, 1])\n",
    "    \n",
    "    # u_hat(predict vector) 구하기. u_hat 은 coupling coefficient 와 previous layer의 아웃풋 u_i 의 곱 \n",
    "    u_hat = tf.matmul(W, primary_capsule, transpose_a=True)\n",
    "    \n",
    "    # 3번째. 수식 반복 논문에서 r = 3\n",
    "    for r_iter in range(routing_iteration):\n",
    "        with tf.variable_scope('iter_' + str(r_iter)):\n",
    "            # 4번째. routing logit 의 softmax 값. c = coupling coefficient 상위 몇번째 캡슐로 향할지에 대한 확률? \n",
    "            # => [1, 1152, 10, 1, 1]\n",
    "            c_IJ = tf.nn.softmax(b_IJ, dim=2)\n",
    "            c_IJ = tf.tile(c_IJ, [batch_size, 1, 1, 1, 1])\n",
    "\n",
    "            # 5번째. s_j current layer 의 j번째 캡슐의 인풋. s_j 는 벡터값.\n",
    "            # => [batch_size, 1152, 10, 16, 1]\n",
    "            s_J = tf.multiply(c_IJ, u_hat)\n",
    "            # sum \n",
    "            # => [batch_size, 1, 10, 16, 1]\n",
    "            s_J = tf.reduce_sum(s_J, axis=1, keep_dims=True)\n",
    "\n",
    "            # 6번째. squashing : capsule layer 의 마지막에 relu 의 용도로 이용 v_J 는 벡터값.\n",
    "            # squash using Eq.1,\n",
    "            v_J = squash(s_J)\n",
    "\n",
    "            # 7번째. b_IJ 를 Agreement 의 값과 더함. 유사도가 높을수록 즉, 내적값이 클수록 b_IJ 값은 커지고 그말은\n",
    "            # i 번째 previous capsule 에서 j 번째 current capsule 로 갈 확률이 높다는 것.\n",
    "            v_J_tiled = tf.tile(v_J, [1, n_previous_cap, 1, 1, 1])\n",
    "            u_produce_v = tf.matmul(u_hat, v_J_tiled, transpose_a=True)\n",
    "            b_IJ += tf.reduce_sum(u_produce_v, axis=0, keep_dims=True)\n",
    "            # squeeze 는 열의 차원이 1차원인 열을 제거\n",
    "digitcaps = tf.squeeze(v_J, axis=1)\n",
    "print('DigitCaps 의 shape 은 %s 입니다.'%(np.shape(digitcaps)))"
   ]
  },
  {
   "cell_type": "markdown",
   "metadata": {},
   "source": [
    "### L2 norm \n",
    "이제 DigitCaps 로부터 L2 norm 을 구해 predict 를 뽑아냅니다."
   ]
  },
  {
   "cell_type": "code",
   "execution_count": 9,
   "metadata": {},
   "outputs": [
    {
     "name": "stdout",
     "output_type": "stream",
     "text": [
      "DigitCaps 의 L2 norm shape 은 (48, 10) 입니다.\n"
     ]
    }
   ],
   "source": [
    "digit_caps_norm = tf.norm(digitcaps, ord=2, axis=2, name='digit_caps_norm')\n",
    "digit_caps_norm = tf.reshape(digit_caps_norm,[batch_size,n_capsule_j])\n",
    "print('DigitCaps 의 L2 norm shape 은 %s 입니다.'%(np.shape(digit_caps_norm)))"
   ]
  },
  {
   "cell_type": "markdown",
   "metadata": {},
   "source": [
    "### Reconstruction\n",
    "![reconstruction](./image/reconstruction.png)\n",
    "\n",
    "target capsule 은 input 이미지가 만약 3이라면 DigitCaps 의 3번째 row 를 꺼내 fully connected 를 진행합니다. <br></br>\n",
    "Decoder 의 역할을 하는 Reconstruction 을 통해 산출된 output 의 shape 은 image 의 크기와 같으며 추가적으로 최종적인 loss 에 input image 의 값과 ouput 값의 차를 줄이는 방식으로 학습합니다. "
   ]
  },
  {
   "cell_type": "code",
   "execution_count": 14,
   "metadata": {
    "collapsed": true
   },
   "outputs": [],
   "source": [
    "def reconstruct(target_capsule, w_initializer):\n",
    "\n",
    "    with tf.name_scope('reconstruct'):\n",
    "        fc = tf.contrib.layers.fully_connected (target_capsule, 512,\n",
    "                                  weights_initializer=w_initializer, activation_fn = tf.nn.relu)\n",
    "        fc = tf.contrib.layers.fully_connected(fc, 1024,\n",
    "                                  weights_initializer=w_initializer, activation_fn = tf.nn.relu)\n",
    "        fc = tf.contrib.layers.fully_connected(fc, 784,\n",
    "                                  weights_initializer=w_initializer,\n",
    "                                  activation_fn=None)\n",
    "        \n",
    "        reconstruct = tf.sigmoid(fc)\n",
    "    return reconstruct"
   ]
  },
  {
   "cell_type": "markdown",
   "metadata": {},
   "source": [
    "### Margin loss\n",
    "![loss](./image/loss.png)\n",
    "\n",
    "논문에서는 reconstruction loss 를 추가했습니다."
   ]
  },
  {
   "cell_type": "code",
   "execution_count": 15,
   "metadata": {
    "collapsed": true
   },
   "outputs": [],
   "source": [
    "RECONSTRUCT_W = 0.0005\n",
    "M_POS = 0.9\n",
    "M_NEG = 0.1\n",
    "LAMBDA = 0.5\n",
    "with tf.name_scope('loss'):\n",
    "\n",
    "    # loss of positive classes\n",
    "    # max(0, m+ - ||v_c||) ^ 2\n",
    "    with tf.name_scope('positive_loss'):\n",
    "        pos_loss = tf.maximum(0., M_POS - tf.reduce_sum(digit_caps_norm * y, axis=1), name='pos_max')\n",
    "        pos_loss = tf.square(pos_loss, name='pos_square')\n",
    "        pos_loss = tf.reduce_mean(pos_loss)\n",
    "\n",
    "    # get index of negative classes\n",
    "    y_negs = 1. - y\n",
    "    # max(0, ||v_c|| - m-) ^ 2\n",
    "    with tf.name_scope('negative_loss'):\n",
    "        neg_loss = tf.maximum(0., digit_caps_norm * y_negs - M_NEG)\n",
    "        neg_loss = tf.reduce_sum(tf.square(neg_loss), axis=-1) * LAMBDA\n",
    "        neg_loss = tf.reduce_mean(neg_loss)\n",
    "    # neg_loss shape: [None, ]\n",
    "\n",
    "    y_ = tf.expand_dims(y, axis=2)\n",
    "    # y_ shape: [None, 10, 1]\n",
    "    digitcaps = tf.reshape(digitcaps,[batch_size, n_capsule_j, len_capsule_j])\n",
    "    target_cap = y_ * digitcaps\n",
    "    \n",
    "    # target_cap shape: [None, 10, 16]\n",
    "    target_cap = tf.reduce_sum(target_cap, axis=1)\n",
    "    # target_cap: [None, 16]\n",
    "\n",
    "    reconstruct = reconstruct(target_cap,w_initializer)\n",
    "    \n",
    "    # loss of reconstruction\n",
    "    with tf.name_scope('reconstruct_loss'):\n",
    "        reconstruct_loss = tf.reduce_sum(tf.square(x - reconstruct), axis=-1)\n",
    "        reconstruct_loss = tf.reduce_mean(reconstruct_loss)\n",
    "\n",
    "\n",
    "    total_loss = pos_loss + neg_loss + RECONSTRUCT_W * reconstruct_loss"
   ]
  },
  {
   "cell_type": "markdown",
   "metadata": {},
   "source": [
    "### Training"
   ]
  },
  {
   "cell_type": "code",
   "execution_count": 16,
   "metadata": {
    "collapsed": true
   },
   "outputs": [],
   "source": [
    "initial_learningrate = 0.001\n",
    "STEP_SIZE = 1000\n",
    "DECAY_RATIO = 0.7\n",
    "\n",
    "global_step = tf.Variable(0, trainable=False)\n",
    "learning_rate = tf.train.exponential_decay(initial_learningrate, global_step,\n",
    "                                           STEP_SIZE, DECAY_RATIO,\n",
    "                                           staircase=True)\n",
    "\n",
    "optimizer = tf.train.AdamOptimizer(learning_rate)\n",
    "gradidents = optimizer.compute_gradients(total_loss)\n",
    "train_op = optimizer.apply_gradients(gradidents,global_step=global_step)"
   ]
  },
  {
   "cell_type": "code",
   "execution_count": 17,
   "metadata": {
    "collapsed": true
   },
   "outputs": [],
   "source": [
    "with tf.name_scope('accuracy'):\n",
    "    predict = tf.argmax(digit_caps_norm, 1)\n",
    "    correct_prediction = tf.equal(tf.argmax(y, 1),\n",
    "                                  predict)\n",
    "    correct_prediction = tf.cast(correct_prediction, tf.float32)\n",
    "    accuracy = tf.reduce_mean(correct_prediction)        "
   ]
  },
  {
   "cell_type": "code",
   "execution_count": 20,
   "metadata": {},
   "outputs": [
    {
     "name": "stdout",
     "output_type": "stream",
     "text": [
      "loss : 0.8376  train accuracy: 0.1458\n",
      "test accuracy: 0.2500\n",
      "average time: 47.68 secs\n"
     ]
    },
    {
     "ename": "KeyboardInterrupt",
     "evalue": "",
     "output_type": "error",
     "traceback": [
      "\u001b[0;31m---------------------------------------------------------------------------\u001b[0m",
      "\u001b[0;31mKeyboardInterrupt\u001b[0m                         Traceback (most recent call last)",
      "\u001b[0;32m<ipython-input-20-be48391a1043>\u001b[0m in \u001b[0;36m<module>\u001b[0;34m()\u001b[0m\n\u001b[1;32m      9\u001b[0m         \u001b[0mfeed_dict\u001b[0m \u001b[0;34m=\u001b[0m \u001b[0;34m{\u001b[0m\u001b[0mx\u001b[0m\u001b[0;34m:\u001b[0m \u001b[0mbatch_xs\u001b[0m\u001b[0;34m,\u001b[0m \u001b[0my\u001b[0m\u001b[0;34m:\u001b[0m \u001b[0mbatch_ys\u001b[0m\u001b[0;34m}\u001b[0m\u001b[0;34m\u001b[0m\u001b[0m\n\u001b[1;32m     10\u001b[0m         \u001b[0m_loss\u001b[0m \u001b[0;34m=\u001b[0m \u001b[0msess\u001b[0m\u001b[0;34m.\u001b[0m\u001b[0mrun\u001b[0m\u001b[0;34m(\u001b[0m\u001b[0mtotal_loss\u001b[0m\u001b[0;34m,\u001b[0m \u001b[0mfeed_dict\u001b[0m\u001b[0;34m)\u001b[0m\u001b[0;34m\u001b[0m\u001b[0m\n\u001b[0;32m---> 11\u001b[0;31m         \u001b[0m_op\u001b[0m \u001b[0;34m=\u001b[0m \u001b[0msess\u001b[0m\u001b[0;34m.\u001b[0m\u001b[0mrun\u001b[0m\u001b[0;34m(\u001b[0m\u001b[0mtrain_op\u001b[0m\u001b[0;34m,\u001b[0m \u001b[0mfeed_dict\u001b[0m\u001b[0;34m)\u001b[0m\u001b[0;34m\u001b[0m\u001b[0m\n\u001b[0m\u001b[1;32m     12\u001b[0m         \u001b[0;32mif\u001b[0m \u001b[0miters\u001b[0m \u001b[0;34m%\u001b[0m \u001b[0;36m100\u001b[0m \u001b[0;34m==\u001b[0m \u001b[0;36m0\u001b[0m \u001b[0;32mand\u001b[0m \u001b[0miters\u001b[0m \u001b[0;34m>\u001b[0m \u001b[0;36m0\u001b[0m\u001b[0;34m:\u001b[0m\u001b[0;34m\u001b[0m\u001b[0m\n\u001b[1;32m     13\u001b[0m             \u001b[0mtrain_acc\u001b[0m \u001b[0;34m=\u001b[0m \u001b[0msess\u001b[0m\u001b[0;34m.\u001b[0m\u001b[0mrun\u001b[0m\u001b[0;34m(\u001b[0m\u001b[0maccuracy\u001b[0m\u001b[0;34m,\u001b[0m \u001b[0mfeed_dict\u001b[0m\u001b[0;34m)\u001b[0m\u001b[0;34m\u001b[0m\u001b[0m\n",
      "\u001b[0;32m~/.local/lib/python3.5/site-packages/tensorflow/python/client/session.py\u001b[0m in \u001b[0;36mrun\u001b[0;34m(self, fetches, feed_dict, options, run_metadata)\u001b[0m\n\u001b[1;32m    893\u001b[0m     \u001b[0;32mtry\u001b[0m\u001b[0;34m:\u001b[0m\u001b[0;34m\u001b[0m\u001b[0m\n\u001b[1;32m    894\u001b[0m       result = self._run(None, fetches, feed_dict, options_ptr,\n\u001b[0;32m--> 895\u001b[0;31m                          run_metadata_ptr)\n\u001b[0m\u001b[1;32m    896\u001b[0m       \u001b[0;32mif\u001b[0m \u001b[0mrun_metadata\u001b[0m\u001b[0;34m:\u001b[0m\u001b[0;34m\u001b[0m\u001b[0m\n\u001b[1;32m    897\u001b[0m         \u001b[0mproto_data\u001b[0m \u001b[0;34m=\u001b[0m \u001b[0mtf_session\u001b[0m\u001b[0;34m.\u001b[0m\u001b[0mTF_GetBuffer\u001b[0m\u001b[0;34m(\u001b[0m\u001b[0mrun_metadata_ptr\u001b[0m\u001b[0;34m)\u001b[0m\u001b[0;34m\u001b[0m\u001b[0m\n",
      "\u001b[0;32m~/.local/lib/python3.5/site-packages/tensorflow/python/client/session.py\u001b[0m in \u001b[0;36m_run\u001b[0;34m(self, handle, fetches, feed_dict, options, run_metadata)\u001b[0m\n\u001b[1;32m   1122\u001b[0m     \u001b[0;32mif\u001b[0m \u001b[0mfinal_fetches\u001b[0m \u001b[0;32mor\u001b[0m \u001b[0mfinal_targets\u001b[0m \u001b[0;32mor\u001b[0m \u001b[0;34m(\u001b[0m\u001b[0mhandle\u001b[0m \u001b[0;32mand\u001b[0m \u001b[0mfeed_dict_tensor\u001b[0m\u001b[0;34m)\u001b[0m\u001b[0;34m:\u001b[0m\u001b[0;34m\u001b[0m\u001b[0m\n\u001b[1;32m   1123\u001b[0m       results = self._do_run(handle, final_targets, final_fetches,\n\u001b[0;32m-> 1124\u001b[0;31m                              feed_dict_tensor, options, run_metadata)\n\u001b[0m\u001b[1;32m   1125\u001b[0m     \u001b[0;32melse\u001b[0m\u001b[0;34m:\u001b[0m\u001b[0;34m\u001b[0m\u001b[0m\n\u001b[1;32m   1126\u001b[0m       \u001b[0mresults\u001b[0m \u001b[0;34m=\u001b[0m \u001b[0;34m[\u001b[0m\u001b[0;34m]\u001b[0m\u001b[0;34m\u001b[0m\u001b[0m\n",
      "\u001b[0;32m~/.local/lib/python3.5/site-packages/tensorflow/python/client/session.py\u001b[0m in \u001b[0;36m_do_run\u001b[0;34m(self, handle, target_list, fetch_list, feed_dict, options, run_metadata)\u001b[0m\n\u001b[1;32m   1319\u001b[0m     \u001b[0;32mif\u001b[0m \u001b[0mhandle\u001b[0m \u001b[0;32mis\u001b[0m \u001b[0;32mNone\u001b[0m\u001b[0;34m:\u001b[0m\u001b[0;34m\u001b[0m\u001b[0m\n\u001b[1;32m   1320\u001b[0m       return self._do_call(_run_fn, self._session, feeds, fetches, targets,\n\u001b[0;32m-> 1321\u001b[0;31m                            options, run_metadata)\n\u001b[0m\u001b[1;32m   1322\u001b[0m     \u001b[0;32melse\u001b[0m\u001b[0;34m:\u001b[0m\u001b[0;34m\u001b[0m\u001b[0m\n\u001b[1;32m   1323\u001b[0m       \u001b[0;32mreturn\u001b[0m \u001b[0mself\u001b[0m\u001b[0;34m.\u001b[0m\u001b[0m_do_call\u001b[0m\u001b[0;34m(\u001b[0m\u001b[0m_prun_fn\u001b[0m\u001b[0;34m,\u001b[0m \u001b[0mself\u001b[0m\u001b[0;34m.\u001b[0m\u001b[0m_session\u001b[0m\u001b[0;34m,\u001b[0m \u001b[0mhandle\u001b[0m\u001b[0;34m,\u001b[0m \u001b[0mfeeds\u001b[0m\u001b[0;34m,\u001b[0m \u001b[0mfetches\u001b[0m\u001b[0;34m)\u001b[0m\u001b[0;34m\u001b[0m\u001b[0m\n",
      "\u001b[0;32m~/.local/lib/python3.5/site-packages/tensorflow/python/client/session.py\u001b[0m in \u001b[0;36m_do_call\u001b[0;34m(self, fn, *args)\u001b[0m\n\u001b[1;32m   1325\u001b[0m   \u001b[0;32mdef\u001b[0m \u001b[0m_do_call\u001b[0m\u001b[0;34m(\u001b[0m\u001b[0mself\u001b[0m\u001b[0;34m,\u001b[0m \u001b[0mfn\u001b[0m\u001b[0;34m,\u001b[0m \u001b[0;34m*\u001b[0m\u001b[0margs\u001b[0m\u001b[0;34m)\u001b[0m\u001b[0;34m:\u001b[0m\u001b[0;34m\u001b[0m\u001b[0m\n\u001b[1;32m   1326\u001b[0m     \u001b[0;32mtry\u001b[0m\u001b[0;34m:\u001b[0m\u001b[0;34m\u001b[0m\u001b[0m\n\u001b[0;32m-> 1327\u001b[0;31m       \u001b[0;32mreturn\u001b[0m \u001b[0mfn\u001b[0m\u001b[0;34m(\u001b[0m\u001b[0;34m*\u001b[0m\u001b[0margs\u001b[0m\u001b[0;34m)\u001b[0m\u001b[0;34m\u001b[0m\u001b[0m\n\u001b[0m\u001b[1;32m   1328\u001b[0m     \u001b[0;32mexcept\u001b[0m \u001b[0merrors\u001b[0m\u001b[0;34m.\u001b[0m\u001b[0mOpError\u001b[0m \u001b[0;32mas\u001b[0m \u001b[0me\u001b[0m\u001b[0;34m:\u001b[0m\u001b[0;34m\u001b[0m\u001b[0m\n\u001b[1;32m   1329\u001b[0m       \u001b[0mmessage\u001b[0m \u001b[0;34m=\u001b[0m \u001b[0mcompat\u001b[0m\u001b[0;34m.\u001b[0m\u001b[0mas_text\u001b[0m\u001b[0;34m(\u001b[0m\u001b[0me\u001b[0m\u001b[0;34m.\u001b[0m\u001b[0mmessage\u001b[0m\u001b[0;34m)\u001b[0m\u001b[0;34m\u001b[0m\u001b[0m\n",
      "\u001b[0;32m~/.local/lib/python3.5/site-packages/tensorflow/python/client/session.py\u001b[0m in \u001b[0;36m_run_fn\u001b[0;34m(session, feed_dict, fetch_list, target_list, options, run_metadata)\u001b[0m\n\u001b[1;32m   1304\u001b[0m           return tf_session.TF_Run(session, options,\n\u001b[1;32m   1305\u001b[0m                                    \u001b[0mfeed_dict\u001b[0m\u001b[0;34m,\u001b[0m \u001b[0mfetch_list\u001b[0m\u001b[0;34m,\u001b[0m \u001b[0mtarget_list\u001b[0m\u001b[0;34m,\u001b[0m\u001b[0;34m\u001b[0m\u001b[0m\n\u001b[0;32m-> 1306\u001b[0;31m                                    status, run_metadata)\n\u001b[0m\u001b[1;32m   1307\u001b[0m \u001b[0;34m\u001b[0m\u001b[0m\n\u001b[1;32m   1308\u001b[0m     \u001b[0;32mdef\u001b[0m \u001b[0m_prun_fn\u001b[0m\u001b[0;34m(\u001b[0m\u001b[0msession\u001b[0m\u001b[0;34m,\u001b[0m \u001b[0mhandle\u001b[0m\u001b[0;34m,\u001b[0m \u001b[0mfeed_dict\u001b[0m\u001b[0;34m,\u001b[0m \u001b[0mfetch_list\u001b[0m\u001b[0;34m)\u001b[0m\u001b[0;34m:\u001b[0m\u001b[0;34m\u001b[0m\u001b[0m\n",
      "\u001b[0;31mKeyboardInterrupt\u001b[0m: "
     ]
    }
   ],
   "source": [
    "max_iteration = 10000\n",
    "with tf.Session() as sess:\n",
    "    sess.run(tf.global_variables_initializer())    \n",
    "\n",
    "    start = time.time()\n",
    "    for iters in range(max_iteration):\n",
    "        batch_xs, batch_ys = mnist.train.next_batch(batch_size)\n",
    "        test_xs, test_ys = mnist.test.next_batch(batch_size)\n",
    "        feed_dict = {x: batch_xs, y: batch_ys}\n",
    "        _loss = sess.run(total_loss, feed_dict)\n",
    "        _op = sess.run(train_op, feed_dict)\n",
    "        if iters % 100 == 0 and iters > 0:\n",
    "            train_acc = sess.run(accuracy, feed_dict)\n",
    "            test_acc = sess.run(accuracy, feed_dict={x:test_xs,y:test_ys})\n",
    "            print(\"loss : %.4f \" % (_loss),'train accuracy: %.4f' % train_acc)\n",
    "            print('test accuracy: %.4f' % test_acc)\n",
    "            finish = time.time()\n",
    "            print('average time: %.2f secs' % (finish - start))\n",
    "print('learning finish')"
   ]
  }
 ],
 "metadata": {
  "kernelspec": {
   "display_name": "Python 3",
   "language": "python",
   "name": "python3"
  },
  "language_info": {
   "codemirror_mode": {
    "name": "ipython",
    "version": 3
   },
   "file_extension": ".py",
   "mimetype": "text/x-python",
   "name": "python",
   "nbconvert_exporter": "python",
   "pygments_lexer": "ipython3",
   "version": "3.5.2"
  }
 },
 "nbformat": 4,
 "nbformat_minor": 2
}
